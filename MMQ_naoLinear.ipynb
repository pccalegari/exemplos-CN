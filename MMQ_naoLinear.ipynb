{
  "nbformat": 4,
  "nbformat_minor": 0,
  "metadata": {
    "colab": {
      "provenance": [],
      "authorship_tag": "ABX9TyO/os9kK8JjJ9xKDC8+Av4q",
      "include_colab_link": true
    },
    "kernelspec": {
      "name": "python3",
      "display_name": "Python 3"
    },
    "language_info": {
      "name": "python"
    }
  },
  "cells": [
    {
      "cell_type": "markdown",
      "metadata": {
        "id": "view-in-github",
        "colab_type": "text"
      },
      "source": [
        "<a href=\"https://colab.research.google.com/github/pccalegari/exemplos-CN/blob/main/MMQ_naoLinear.ipynb\" target=\"_parent\"><img src=\"https://colab.research.google.com/assets/colab-badge.svg\" alt=\"Open In Colab\"/></a>"
      ]
    },
    {
      "cell_type": "markdown",
      "source": [
        "**Mínimos Quadrados não lineares**\n",
        "\n",
        "\n",
        "As funções usadas na aproximação são não lineares nos parâmetros.\n",
        "\n",
        "Por exemplo, funções racionais, hiperbólicas, exponenciais, como,\n",
        "\n",
        "$$g(x) = a_1\\exp\\left(-\\dfrac{(a_2-x)^2}{a_3}\\right)+a_4\\exp\\left(-\\dfrac{(a_5-x)^2}{a_6}\\right).$$\n",
        "\n",
        "A ideia continua a mesma, minimizar a soma dos quadrados dos resíduos. A diferença é que podemos ter dois caminhos:\n",
        "\n",
        "\n",
        "*   Se for possível, podemos linearizar a função aproximadora, resolver o problema linear e depois retornar aos parâmetros originais.\n",
        "*  Resolver um sistema não linear, obtido a partir do problema de minimizar a função resíduo.\n",
        "\n",
        "*Exemplo 1:*\n",
        "\n",
        "1.  Como fazer para aproximar uma função $f$ por uma função $g(x) = a_0\\exp(-{a_1x})$?\n",
        "\n",
        "Note que aplicando $\\ln$ em ambos os lados, $g(x) = a_0\\exp(-a_1 x) \\Longrightarrow \\ln(g(x)) = \\ln(a_0) - a_1x$. Fazendo $\\alpha_0=\\ln(a_0)$ e $\\alpha_1= - a_1$ temos um problema linear, um ajuste por uma reta, $\\ln(y)\\approx \\alpha_0 + \\alpha_1x$. Obtidos $\\alpha_0$ e $\\alpha_1$ usamos a transformação para obter $a_0$ e $a_1$.\n",
        "\n",
        "\n",
        "\n",
        "\n"
      ],
      "metadata": {
        "id": "T5-pH5E6VQU1"
      }
    },
    {
      "cell_type": "markdown",
      "source": [
        "A seguir um exemplo, de MMQ não linear com a resolução de um sistema não linear.\n",
        "\n",
        "Nosso objetivo, obter os parâmetros por meio do método dos mínimos quadrados, que minimizam a função,\n",
        "\n",
        "$$  r({\\bf a}) = \\dfrac{1}{2}\\sum_{i=1}^m r_i({\\bf a})^2,$$\n",
        "\n",
        "sendo ${\\bf a}=(a_0,a_1,\\ldots,a_m)$, o resíduo $r_i({\\bf a}) = f(x_i,{\\bf a}) - y_i$, com $(x_i,y_i)$ dados e $m$ tamanho dos vetores $x$ e $y$. O nosso obejtivo é determinar ${\\bf a}$ tal que o valor da função resíduo seja mínimo.\n",
        "\n",
        "**Algoritmo de Gauss-Newton**\n",
        "\n",
        "Nesse método assume-se que ${\\bf a}^k$ está próximo do mínimo e portanto, o resíduo $r_i({\\bf a})$ está próximo de zero. Para simplificar, vamos apresentar a dedução para uma função com dois parâmetros.\n",
        "\n",
        "Vamos aproximar a função resíduo $r(a_0,a_1)$ utilizando os três primeiros termos da série de Taylor. Os três primeiros termos da série em torno de $(a_0,a_1)$ com incremento $(p_0,p_1)$ são dados por:\n",
        "$$r(a_0+p_0,a_1+p_1) \\approx r(a_0,a_1) + p_0\\dfrac{\\partial r}{\\partial a_0}(a_0,a_1) + p_1\\dfrac{\\partial r}{\\partial a_1}(a_0,a_1) + \\dfrac{1}{2}\\left(p_0^2\\dfrac{\\partial^2 r}{\\partial a_0^2}(a_0,a_1)+2p_0p_1\\dfrac{\\partial^2 r}{\\partial a_0\\partial a_1}(a_0,a_1)+p_1^2\\dfrac{\\partial^2 r}{\\partial a_1^2}(a_0,a_1)\\right).$$\n",
        "\n",
        "As derivadas parciais em relação a $a_0$ e $a_1$ geram a matriz Jacobiana:\n",
        "\n",
        "$$J = \\left(\\begin{array}{cc}\n",
        "\\dfrac{\\partial r_1}{\\partial a_0} & \\dfrac{\\partial r_1}{\\partial a_1}\\\\\n",
        "\\dfrac{\\partial r_2}{\\partial a_0} & \\dfrac{\\partial r_2}{\\partial a_1}\\\\\n",
        "\\vdots &\\vdots \\\\\n",
        "\\dfrac{\\partial r_n}{\\partial a_0} & \\dfrac{\\partial r_n}{\\partial a_1} \\\\\n",
        "\\end{array}\\right)$$\n",
        "\n",
        "Para obter os parâmetros $a_0$ e $a_1$ que minimizam $r(a_0,a_1)$ precisamos derivar  e igualar a zero, obtendo:\n",
        "$$\\dfrac{\\partial r}{\\partial a_k} = \\sum_{i=1}^{n} \\dfrac{\\partial r_i}{\\partial a_k}\\cdot r_i$$\n",
        "\n",
        "Note que,\n",
        "\n",
        "$$p_0\\dfrac{\\partial r}{\\partial a_0}(a_0,a_1) + p_1\\dfrac{\\partial r}{\\partial a_1}(a_0,a_1) = p^TJ^T r(a)$$\n",
        "\n",
        "Já os termos de associados as derivadas de segunda ordem são representados por,\n",
        "\n",
        "$$\\dfrac{\\partial^2 r}{\\partial a_k^2}=\\sum_{i=1}^n\\dfrac{\\partial r_i}{\\partial a_k}\\cdot\\dfrac{\\partial r_i}{\\partial a_k} + \\sum_{i=1}^nr_i\\dfrac{\\partial^2 r_i}{\\partial a_k^2}.$$\n",
        "\n",
        "Assim,\n",
        "$$r({\\bf a}+{\\bf p}) = r({\\bf a}) + {\\bf p}^TJ^Tr({\\bf a}) + \\dfrac{1}{2}{\\bf p}^T(J^TJ + Q){\\bf p}).$$\n",
        "\n",
        "No processo de minimizar $r$ queremos determinar o incremento ${\\bf p}$ que diminua a soma dos resíduos. Ou seja, $r({\\bf a}+{\\bf p}) < r({\\bf a})$. No método de Gauss-Newton, admitimos que ${\\bf a}^k$ está pŕoximo do mínimo e portanto $r({\\bf a})$ está próximo de zero. Com esta hipótese é razoável argumentar que a matriz $Q$ que contém as derivadas de segunda ordem pode ser desprezada. Nestas condições a cada iteração:\n",
        "\n",
        "(1) Avaliamos $J$ e $r$.\n",
        "\n",
        "(2) Resolvemos $J^T J{\\bf p} = -J^Tr$\n",
        "\n",
        "(3) ${\\bf a}^{k+1} = {\\bf a}^k + {\\bf p}$\n",
        "\n",
        "Para mais detalhes veja [1] e [2].\n",
        "\n",
        "*Algoritmo*\n",
        "\n",
        "Entrada: $r_i({\\bf a})$, $J$ e ${\\bf a}^0$.\n",
        "\n",
        "Saída: ${\\bf a}$\n",
        "\n",
        "\n",
        "```\n",
        "itmax = 100\n",
        "tol = 10**(-6)\n",
        "it = 1\n",
        "diff = 1\n",
        "enquanto(diff > tol e it < itmax) faça\n",
        "   Calcule r = r(a0)\n",
        "   Calcule J = J(a0)\n",
        "   Calcule (J^T)J e (J^T)r\n",
        "   Resolva o sistema (J^T)Jp = -(J^T)r\n",
        "   a = a0 + p\n",
        "   diff = max |a|\n",
        "   a0 = a\n",
        "   it = it + 1\n",
        "   \n",
        "```\n",
        "\n",
        "Outra alternativa é o método de **Levenberg-Marquardt** onde a minimização da soma dos resíduos se baseia na solução do sistema:\n",
        "\n",
        "$$(J_k^TJ_k+\\lambda_kI)p_k=-J^T_kr_k,$$\n",
        "onde $J^T$ é a transposta da matriz Jacobiana e $I$ é a matriz identidade.\n",
        "\n",
        "Um dos métodos utilizado em least_squares do módulo scipy.\n",
        "\n",
        "https://docs.scipy.org/doc/scipy/reference/generated/scipy.optimize.least_squares.html\n",
        "\n",
        "**Referências:**\n",
        "\n",
        "[1] Cálculo Numérico Computacional. Peters e Szeremeta, Ed UFSC, 2018.\n",
        "[2] Métodos Numéricos. Maria Cristina Cunha, Ed. Unicamp, 1993.\n",
        "\n",
        "\n",
        "\n"
      ],
      "metadata": {
        "id": "DMIXFKmMWBOP"
      }
    },
    {
      "cell_type": "markdown",
      "source": [
        "*Exemplo 2*: Uma população de bactérias foi medida ao longo das 6 primeiras horas de um dia.\n",
        "\n",
        "$$\\begin{array}{c|cccccc}\n",
        "t & 0 & 1 & 2 & 3 & 4 & 5 & 6 \\\\\n",
        "\\hline\n",
        "p(t) & 32 & 47 & 65 & 92 & 132 & 190 & 275 \\\\\n",
        "\\end{array}$$\n",
        "\n",
        "Utilize a função $g(x) = a_0e^{a_1x}$ para aproximar os dados pelo Método dos Mínimos Quadrados."
      ],
      "metadata": {
        "id": "piCglS4DQI4h"
      }
    },
    {
      "cell_type": "code",
      "source": [
        "\n"
      ],
      "metadata": {
        "id": "W2APsI881T8x"
      },
      "execution_count": 4,
      "outputs": []
    },
    {
      "cell_type": "markdown",
      "source": [
        "*Exercício 1*\n",
        "\n",
        "Considere a tabela\n",
        "$$\\begin{array}{c|ccccc}\n",
        "r & 2.7 & 2 & 1.61 & 1.2 & 1.02\\\\\n",
        "\\hline\n",
        "\\theta & 48^o & 67^o & 83^o & 108^o & 126^o\\\\\n",
        "\\end{array}$$\n",
        "\n",
        "gerada a partr de medidas da posição de um cometa em coordenadas polares. Considere que a órbita do cometa é modelada pela lei de Kepler\n",
        "\n",
        "$$r = \\dfrac{a_0}{1-a_1\\cos(\\theta)}$$\n",
        "\n",
        "Implemente o método de Gauss-Newton e MMQ linearizado e compare os resultados."
      ],
      "metadata": {
        "id": "BC5zLyyXnb3K"
      }
    },
    {
      "cell_type": "code",
      "source": [],
      "metadata": {
        "id": "Gwlcgw8KnWb3"
      },
      "execution_count": 3,
      "outputs": []
    },
    {
      "cell_type": "markdown",
      "source": [
        "**Aplicação: Curva de polarização**\n",
        "\n",
        "Para o ajuste da curva de polarização por meio da função não linear é necessário obter os parâmetros ${\\bf a}$ da função,\n",
        "$$ f(x,{\\bf a})= a_0 - a_1x - a_2\\ln\\left(\\frac{x}{a_3} + 1\\right) - a_4\\exp(a_5x).$$\n",
        "\n",
        "Utilize esta função aproximadora para aproximar os dados de corrente e voltagem da tabela:\n",
        "\n",
        "$$\\begin{array}{c|cccccccc}\n",
        "i & 0  & 4.75\\cdot 10^{-4} & 8.27\\cdot 10^{-4} & 1.69\\cdot 10^{-3} & 2.5\\cdot 10^{-3} & 3.01\\cdot 10^{-3} & 3.19\\cdot 10^{-3} & 3.86\\cdot 10^{-3} \\\\\n",
        "\\hline\n",
        "V & 0.6795 & 0.4862 & 0.423 & 0.33975 & 0.25075 & 0.2062 & 0.1629 & 0.07715\n",
        "\\end{array}$$"
      ],
      "metadata": {
        "id": "LfmstrQQOBgH"
      }
    },
    {
      "cell_type": "code",
      "source": [
        "#Exemplo curva de polarização, usando o módulo scipy\n",
        "\n",
        "import matplotlib.pyplot as plt\n",
        "import numpy as np\n",
        "from scipy import optimize\n",
        "\n",
        "def fnlinear(x, a):\n",
        "    y = 0.6795 - a[0]*np.log(x/a[1] + 1.0) - a[2]*x- a[3]*np.exp(a[4]*x)\n",
        "    return y\n",
        "\n",
        "def flinear(t, a, b):\n",
        "    y = a - b*t\n",
        "    return y\n",
        "\n",
        "def rnlinear(a, x, y):\n",
        "    return 0.6795 - a[0]*np.log(x/a[1] + 1.0) - a[2]*x - a[3]*np.exp(a[4]*x) - y\n",
        "\n",
        "def rlinear(x, t, y):\n",
        "    return x[0] - x[1]*t - y\n",
        "\n",
        "i = np.array([0, 4.75*10**(-4), 8.27*10**(-4), 1.69*10**(-3), 2.5*10**(-3), 3.01*10**(-3), 3.19*10**(-3), 3.86*10**(-3)])\n",
        "n = len(i)\n",
        "v = np.array([0.6795, 0.4862, 0.423, 0.33975, 0.25075, 0.2062, 0.1629, 0.07715])\n",
        "\n",
        "i_min = i[0]\n",
        "i_max = i[n-1]\n",
        "\n",
        "x0 = np.array([0.0, 0.1, 1, 0.0, 500.0])\n",
        "\n",
        "res_lsq = optimize.least_squares(rnlinear, x0, args=(i, v))\n",
        "\n",
        "print(\"Parâmetros do ajuste Não linear\")\n",
        "print(res_lsq)\n",
        "a = np.zeros(len(x0))\n",
        "for k in range(len(x0)):\n",
        "    a[k] = res_lsq.x[k]\n",
        "\n",
        "print(\"a = \", a)\n",
        "\n",
        "i_test = np.linspace(i_min, i_max, 100)\n",
        "\n",
        "y_lsq = fnlinear(i_test, a)\n",
        "\n",
        "\n",
        "plt.figure(2)\n",
        "plt.plot(i, v, 'o', label='Experimento')\n",
        "plt.plot(i_test, y_lsq, label='Ajuste não linear')\n",
        "plt.xlabel(\"Corrente\")\n",
        "plt.ylabel(\"Voltagem\")\n",
        "plt.legend()\n",
        "plt.show()"
      ],
      "metadata": {
        "colab": {
          "base_uri": "https://localhost:8080/",
          "height": 796
        },
        "id": "6Rd5cdUHWgBb",
        "outputId": "ade8bc3c-a52d-44e9-a6ae-9d465ddd48a7"
      },
      "execution_count": 3,
      "outputs": [
        {
          "output_type": "stream",
          "name": "stdout",
          "text": [
            "Parâmetros do ajuste Não linear\n",
            "     message: `ftol` termination condition is satisfied.\n",
            "     success: True\n",
            "      status: 2\n",
            "         fun: [-2.628e-03 -3.319e-03  6.923e-03 -5.406e-03  1.947e-03\n",
            "               -9.921e-03  1.136e-02 -1.623e-03]\n",
            "           x: [ 6.394e-02  3.672e-05  5.056e+01  2.628e-03  9.688e+02]\n",
            "        cost: 0.0001645117796417646\n",
            "         jac: [[ 0.000e+00  0.000e+00 ... -1.000e+00  0.000e+00]\n",
            "               [-2.634e+00  1.616e+03 ... -1.584e+00 -1.978e-06]\n",
            "               ...\n",
            "               [-4.476e+00  1.721e+03 ... -2.199e+01 -1.843e-04]\n",
            "               [-4.664e+00  1.724e+03 ... -4.208e+01 -4.268e-04]]\n",
            "        grad: [-6.906e-08  3.285e-05 -4.307e-11 -3.593e-07  1.540e-11]\n",
            "  optimality: 3.2852787484216606e-05\n",
            " active_mask: [ 0.000e+00  0.000e+00  0.000e+00  0.000e+00  0.000e+00]\n",
            "        nfev: 58\n",
            "        njev: 49\n",
            "a =  [6.39403286e-02 3.67245704e-05 5.05566944e+01 2.62798665e-03\n",
            " 9.68782079e+02]\n"
          ]
        },
        {
          "output_type": "display_data",
          "data": {
            "text/plain": [
              "<Figure size 640x480 with 1 Axes>"
            ],
            "image/png": "[encoded data removed]"
          },
          "metadata": {}
        }
      ]
    }
  ]
}