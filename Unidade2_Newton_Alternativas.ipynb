{
  "nbformat": 4,
  "nbformat_minor": 0,
  "metadata": {
    "colab": {
      "provenance": [],
      "include_colab_link": true
    },
    "kernelspec": {
      "name": "python3",
      "display_name": "Python 3"
    },
    "language_info": {
      "name": "python"
    }
  },
  "cells": [
    {
      "cell_type": "markdown",
      "metadata": {
        "id": "view-in-github",
        "colab_type": "text"
      },
      "source": [
        "<a href=\"https://colab.research.google.com/github/pccalegari/exemplos-CN/blob/main/Unidade2_Newton_Alternativas.ipynb\" target=\"_parent\"><img src=\"https://colab.research.google.com/assets/colab-badge.svg\" alt=\"Open In Colab\"/></a>"
      ]
    },
    {
      "cell_type": "markdown",
      "source": [
        "#Equações Algébricas\n",
        "\n"
      ],
      "metadata": {
        "id": "dqkjUhVb34NO"
      }
    },
    {
      "cell_type": "markdown",
      "source": [
        "**Método de Newton Modificado**\n",
        "\n",
        "No método de Newton modificado, substituimos a avaliação de $f'(x)$ por $f'(x_0)$ em todas as iterações. Portanto, a função de iteração é dada por,\n",
        "\n",
        "$$x_{n+1}=x_n-\\dfrac{f(x_n)}{f'(x_0)}, n=0,1,2,\\ldots$$\n",
        "e $x_0$ uma aproximação inicial.\n",
        "\n",
        "\n",
        "**Método das Secantes**\n",
        "\n",
        "Uma outra alternativa, para se evitar o cálculo da derivada é utilizar retas secantes como aproximações lineares, no lugar das retas tangentes. Neste caso, vamos precisar de duas aproximações iniciais: $x_0$ e $x_1$.\n",
        "\n",
        "A ideia é substituir a inclinação da reta tangente pela inclinação da reta secante que passa pelos pontos $(x_0, f(x_0))$ e $(x_1, f(x_1))$, dada por $\\displaystyle{\\dfrac{f(x_1) - f(x_0)}{x_1-x_0}}$. Assim,\n",
        "\n",
        "$$x_2=x_1-\\dfrac{f(x_1)}{\\dfrac{f(x_1) - f(x_0)}{x_1-x_0}}.$$\n",
        "\n",
        "Reescrevendo a expressão obtemos,\n",
        "\n",
        "$$x_2=\\dfrac{x_0f(x_1) - x_1f(x_0)}{f(x_1)-f(x_0)}.$$\n",
        "\n",
        "Generalizando, para as próximas iterações,\n",
        "\n",
        "$$x_{n+1}=\\dfrac{x_{n-1}f(x_n) - x_nf(x_{n-1})}{f(x_n)-f(x_{n-1})}, n=1,2,\\ldots$$\n",
        "e $x_0$ e $x_1$ aproximações iniciais.\n",
        "\n",
        "*Exemplo 3*. Vamos comparar os três métodos para aproximar a solução de $x^2-2=0$  no intervalo $[1.3,1.7]$.\n",
        "\n",
        "\n"
      ],
      "metadata": {
        "id": "ADqZESCJ_aMr"
      }
    },
    {
      "cell_type": "markdown",
      "source": [
        "**Critérios de parada**: são expressões lógicas que em alguma iteração devem resultar no valor lógico *falso*. Como o nome já diz ele deve parar um comando de repetição. É importante incluirmos o número máximo de iterações para garantir que o processo termine, mas se este for o motivo do fim, algo não funcionou. Ou o método não convergiu ou fizemos algum cálculo incorreto.\n",
        "\n",
        "Como o nosso problema consiste em determinar $\\alpha$ tal que $f(\\alpha)=0$, um bom critério pode ser analisar $|f(x)|$, pois quando estivermos mais próximos de $\\alpha$, $|f(x)|$ estará próximo de zero. Assim, consideramos uma tolerância $\\delta$ (um número suficientemente pequeno, por exemplo, $10^{-6}$) e repetimos o processo iterativo **enquanto** $|f(x)|>\\delta$.\n",
        "\n",
        "Outro critério é considerar que a cada iteração estamos cada vez mais próximos de $\\alpha$. Dessa forma, a cada iteração a diferença entre duas aproximações consecutivas é cada vez menor. Ou seja, $|x - x_0|$ está cada vez mais próximo de zero. Assim, **enquanto** $|x-x_0| > \\delta$ repetimos o processo.\n",
        "\n",
        "**Aproximação inicial** $x_0$:  \n",
        "\n",
        "Para os métodos de ponto fixo (Aproximações Sucessivas), de acordo com o Teorema do Ponto Fixo $x_0\\in [a,b]$, sendo $[a,b]$ o intervalo que contém a raiz isolada. Para o método de Newton, é importante que $x_0$ esteja próximo de $x_0$ por conta da aproximação linear feita para a dedução do método. Mas como saber se estamos próximos da solução? Uma sugestão é avaliar $|f(x_0)|$ e verificar se este valor está próximo de zero. Lembre que a convergência do método de Newton é rápida.\n",
        "\n",
        "**Algoritmos:**\n",
        "\n",
        "*Método de Newton:*\n",
        "\n",
        "Entrada: $f(x)$, $f'(x)$, $x_0$ e $\\delta$ (tolerância).\n",
        "\n",
        "Saída: $\\alpha$ (aproximação da raiz de $f(x)$).\n",
        "\n",
        "```\n",
        "1.  i = 1, imax = 100\n",
        "2.  enquanto( |f(x0)| > delta e i < imax) faça:\n",
        "3.     x = x0 - f(x0)/f'(x0)\n",
        "4.     x0 = x\n",
        "5.     i = i + 1\n",
        "6.  Escreva i, x, f(x)       \n",
        "```\n"
      ],
      "metadata": {
        "id": "Ddp2fJyf_e3R"
      }
    },
    {
      "cell_type": "markdown",
      "source": [
        "**Funções com derivadas nulas**\n",
        "\n",
        "O método de Newton poderá ter problemas em uma vizinhança de uma raiz da derivada de $f(x)$. Considere a função $f(x) = e^x - x - 1$ que tem $\\alpha = 0$ como raiz. Note que $\\alpha = 0$ também anula $f'(x) = e^x - 1$.\n",
        "\n",
        "Pelo método de Newton, a sequência de aproximações é dada por\n",
        "\n",
        "$$x_{n+1} = x_n - \\dfrac{f(x_n)}{f'(x_n)}.$$\n",
        "\n",
        "Vamos ver algumas estratégias para contornar essa dificuldade, quando $\\displaystyle{\\lim_{n\\longrightarrow\\infty} f'(x_n) = 0}$.\n",
        "\n",
        "(a) Consideramos a função $\\displaystyle{g(x) =\\frac{f(x)}{f'(x)}}$. Se $\\alpha$ anula $f(x)$ também anula a função $g(x)$. Dessa forma, usando o método de Newton, vamos determinar a raiz de $g(x)$,\n",
        "\n",
        "$$x_{n+1}=x_n-\\frac{g(x_n)}{g'(x_n)} = x_n-\\frac{\\frac{f(x_n)}{f'(x_n)}}{\\frac{f'(x_n)^2 - f(x_n)f''(x_n)}{f'(x_n)^2}}.$$\n",
        "\n",
        "Assim,\n",
        "$$x_{n+1}=x_n-\\frac{f(x_n)f'(x_n)}{f'(x_n)^2 - f(x_n)f''(x_n)}.$$\n",
        "\n",
        "*Exemplo  4*.\n",
        "Determinar uma aproximação para a raiz de $f(x) = e^x-x-1$, partindo de $x_0=1$."
      ],
      "metadata": {
        "id": "MwdLp2LnA8yV"
      }
    },
    {
      "cell_type": "markdown",
      "source": [
        "(b) Aplicar a Regra de L'Hospital:\n",
        "*Sejam* $f_1(x)$ e $f_2(x)$ *contínuas e deriváveis em um intervalo* $I$ *com* $f_2'(x)\\neq 0, \\forall x\\in I$ *e seja* $a\\in I$ tal *que* $f_1(a)=f_2(a)=0$. *Supondo que exista* $\\displaystyle{\\lim_{x\\longrightarrow a}\\frac{f_1'(x)}{f_2'(x)}}$ *então*\n",
        "$$\\lim_{x\\longrightarrow a}\\frac{f_1(x)}{f_2(x)} = \\lim_{x\\longrightarrow a}\\frac{f_1'(x)}{f_2'(x)}.$$\n",
        "\n",
        "No nosso caso teremos, $\\displaystyle{\\lim_{n\\longrightarrow \\infty}\\frac{f(x_n)}{f'(x_n)} = \\lim_{n\\longrightarrow \\infty}\\frac{f'(x_n)}{f''(x_n)}}$\n",
        "\n",
        "*Exemplo 5.* Repetir o exemplo anterior utilizando a técnica (b).\n"
      ],
      "metadata": {
        "id": "3zEkhglZBdzR"
      }
    },
    {
      "cell_type": "markdown",
      "source": [
        "**Aproximação de raízes de polinômios**\n",
        "\n",
        "Considere um polinômio de grau $m$ dado por,\n",
        "$$p_m(x) = a_mx^m +a_{m-1}x^{m-1}+\\ldots+a_2x^2+a_1x+a_0,$$\n",
        "com $a_m,a_{m-1},\\ldots,a_2,a_1,a_0\\in\\mathbb{R}$ e $a_m\\neq 0$. Para utilizar o método de Newton, precisamos avaliar dois polinômios $p_m(x)$ e $p'_m(x)$. A avaliação de um polinômio pode ser feita da seguinte forma. Considere,\n",
        "$p_4(x) = a_4x^4+a_3x^3+a_2x^2+a_1x+a_0$, para avaliar este polinômio neste formato, serão realizadas 14 operações.\n",
        "Se reescrevermos o polinômiono formato, $p_4(x) = (((a_4x+a_3)x+a_2)x+a_1)x+a_0$, reduzimos o número de operações para 8.\n",
        "\n",
        "O **Método de Horner** para avaliar polinômios é baseado no seguinte resultado, dado pelo Teorema 2.19 [1].Defina\n",
        "\n",
        "$$\\begin{array}{ll}\n",
        "  b_n = a_n & \\\\\n",
        "  b_k = a_k + b_{k+1}x_0 & \\mbox{ para } k = n - 1,\\ldots 0.\\\\\n",
        "\\end{array}$$\n",
        "Então, $b_0=p(x_0)$.\n",
        "\n",
        "Além disso, se\n",
        "$$q(x) = b_nx^{n-1} + b_{n-1}x^{n-2}+\\ldots + b_2x+ b_1,$$\n",
        "então, podemos reescrever,\n",
        "$$p(x) = (x - x_0)q(x) + b_0.$$\n",
        "\n",
        "Derivando $p(x)$ e usando a regra do produto,  obtemos,\n",
        "$$p'(x) = q(x) + (x-x_0)q'(x).$$\n",
        "\n",
        "Dessa forma, $p'(x_0) = q(x_0)$.\n",
        "\n",
        "Assim o método de Newton em conjunto com o método de Horner é dado por:\n",
        "\n",
        "$$x_{n+1} = x_n - \\dfrac{p(x_n)}{q(x_n)}$$\n",
        "\n",
        "*Algoritmo de Horner*: Para avaliar um polinômio $p(x)$ e sua derivada em $p'(x)$ em $x_0$.\n",
        "\n",
        "Entrada: grau $n$, os coeficientes $a_0, a_1, \\ldots, a_n$ e $x_0k$.\n",
        "\n",
        "Saída: $y = p(x_0)$ e $z = p'(x_0)$.\n",
        "\n",
        "```\n",
        "1.  y = a_n e z = a_n\n",
        "2.  Para j = n - 1, n-2, ..., 1 faça\n",
        "3.     y = x_0y + a_j\n",
        "4.     z = x_0z + y\n",
        "5.  fim para\n",
        "6.  y = x_0y + a_0\n",
        "```\n",
        "\n",
        "\n",
        "\n",
        "*Exemplo 6.* Vamos realizar duas iterações do método de Newton para aproximar uma raiz do polinômio $p(x) = 2x^4-3x^2+3x-4$ partindo de $x_0=-2$ e usando o método de Horner para avaliar $p(x)$ e $p'(x)$.\n",
        "\n",
        "*Solução*:\n",
        "\n",
        "Temos $a_4=2, a_3=0, a_2=-3, a_1=3$ e $a_0=-4$. Vamos executar o algoritmo de Horner para avaliar $p(x_0)$ e $p'(x_0)$ com $x_0 = -2$. Inicialmente,\n",
        "\n",
        "$y = a_4 = 2$ e $z = y = 2$. Assim na primeira iteração:\n",
        "\n",
        "Para $j=3$ temos $y = x_0y + a_3 = -2\\times 2 + 0 = -4$ e $z = x_0z + y = -2\\times 2 -4 = -8$.\n",
        "\n",
        "Na segunda iteração, com $j=2$ temos $y = x_0y + a_2 = -2\\times(-4) - 3 = 5$ e $z = x_0z + y = -2\\times(-8) = 5 = 21$.\n",
        "\n",
        "Na terceira e última iteração, com $j=1$ temos $y = x_0y + a_1=-2\\times 5 + 3 = -7$ e $z = x_0z + y = -2\\times 21 - 7 = -49$.\n",
        "\n",
        "E finalmente, $y = x_0y + a_0 = -2\\times (-7) -4 = 10$.\n",
        "\n",
        "Portanto, $p(x_0) = 10$ e $p'(x_0) = -49$.\n",
        "\n",
        "\n"
      ],
      "metadata": {
        "id": "GswYTF1dBtrK"
      }
    },
    {
      "cell_type": "markdown",
      "source": [
        "**Método de Müller**:\n",
        "\n",
        "O método de Müller para a determinação de raízes de equações é uma extensão do método da secante e pode ser utilizado para aproximar raízes complexas. A ideia é partir de três aproximações iniciais: $x_0, x_1$ e $x_2$ e calcular $x_3$ como a raiz da parábola que passa pelos pontos $(x_0,f(x_0)), (x_1,f(x_1))$ e $(x_2,f(x_2))$. Para isso, considere a parábola, dada por: $p(x) = a(x - x_2)^2 + b(x - x_2) + c.$ As constantes $a$, $b$ e $c$ são determinadas pelas equações:\n",
        "\n",
        "$$f(x_0) = a(x_0 - x_2)^2 + b(x_0 - x_2) + c,$$\n",
        "$$f(x_1) = a(x_1 - x_2)^2 + b(x_1 - x_2) + c,$$\n",
        "$$f(x_2) = a(x_2 - x_2)^2 + b(x_2 - x_2) + c \\Longrightarrow c = f(x_2).$$\n",
        "\n",
        "Para determinar $a$ e $b$, substituímos $c$ nas expressões de $f(x_0)$ e $f(x_1)$ e dividindo as expressões, respectivamente, por $(x_0 - x_2)$ e $(x_1-x_2)$, obtemos:\n",
        "\n",
        "$$(A) \\frac{f(x_0) - f(x_2)}{x_0 - x_2} = a(x_0 - x_2) + b,$$\n",
        "$$(B) \\frac{f(x_1) - f(x_2)}{x_1 - x_2} = a(x_1 - x_2) + b.$$\n",
        "\n",
        "Fazendo $(A)-(B)$ obtemos $\\displaystyle{a = \\frac{q_0 - q_1}{x_0 - x_1}}$, com $\\displaystyle{q_0 = \\dfrac{f(x_0) - f(x_2)}{x_0 - x_2}}$ e $\\displaystyle{q_1 = \\dfrac{f(x_1) - f(x_2)}{x_1 - x_2}}$. Substituindo $a$ na equação $(A)$, obtemos $\\displaystyle{b = \\dfrac{q_0(x_2 - x_1) + q_1(x_0 - x_2)}{x_0 - x_1}}$. Note que as raízes de $p(x)$ são dadas por,\n",
        "$$x - x_2 = \\frac{-b \\pm \\sqrt{b^2 -  4ac}}{2a}.$$\n",
        "\n",
        "Para evitar possíveis erros de arredondamento racionalizamos o numerador da expressão, ou seja, multiplicamos numerador e denominador por $-b \\mp \\sqrt{b^2 - 4ac}$. Assim obtemos,\n",
        "\n",
        "$$\n",
        "\\alpha_1 - x_2 = \\frac{-2c}{b+\\sqrt{b^2 - 4ac}} \\mbox{ e } \\alpha_2 - x_2 = \\frac{-2c}{b-\\sqrt{b^2 - 4ac}}.\n",
        "$$\n",
        "\n",
        "No Método de Müller a próxima aproximação da raiz é escolhida de acordo com o sinal do coeficiente $b$. Esta escolha garante que o denominador será maior em magnitude e resultará na aproximação da raiz mais próxima da raiz anterior.\n",
        "\n",
        "Dessa forma,\n",
        "$$x_3 = x_2 - \\frac{2c}{b + \\mbox{sgn}(b)\\sqrt{b^2 - 4ac}}, $$\n",
        "sendo $\\mbox{sgn}(b)=b/|b|$. Portanto, a sequência de aproximações é dada por,\n",
        "\n",
        "$$x_{n+1} = x_n - \\frac{2c}{b + \\mbox{sgn}(b)\\sqrt{b^2 - 4ac}}, \\mbox{ para } n=2,3,\\ldots,$$\n",
        "com os coeficientes $a$, $b$ e $c$, calculados com $x_2 = x_n, x_1 = x_{n-1}$ e $x_0=x_{n-2}.$\n",
        "Note que são necessárias três aproximações iniciais: $x_0$, $x_1$ e $x_2$ para que o método possa ser iniciado.\n",
        "\n",
        "\n"
      ],
      "metadata": {
        "id": "p43Dl5LwGCV6"
      }
    },
    {
      "cell_type": "markdown",
      "source": [
        "**Referências**\n",
        "\n",
        "[1] Richard L. Burden  and Douglas  Faires (2011) *Numerical Analysis*, 9$^{th}$ Edition, Brooks/Cole, Cengage Learning.\n",
        "\n",
        "[2] Flora H. et al. Noções de Cálculo Numérico.\n",
        "\n",
        "[3] Peters e Szeremeta. Cálculo Numérico e Computacional. Editora da UFSC, 2018."
      ],
      "metadata": {
        "id": "IXjdmKjsCgvx"
      }
    }
  ]
}