{
  "nbformat": 4,
  "nbformat_minor": 0,
  "metadata": {
    "colab": {
      "provenance": [],
      "name": "unidade3_sistemaslineares_pratica1.ipynb",
      "include_colab_link": true
    },
    "kernelspec": {
      "name": "python3",
      "display_name": "Python 3"
    },
    "language_info": {
      "name": "python"
    }
  },
  "cells": [
    {
      "cell_type": "markdown",
      "metadata": {
        "id": "view-in-github",
        "colab_type": "text"
      },
      "source": [
        "<a href=\"https://colab.research.google.com/github/pccalegari/exemplos-CN/blob/main/unidade3_sistemaslineares_pratica1.ipynb\" target=\"_parent\"><img src=\"https://colab.research.google.com/assets/colab-badge.svg\" alt=\"Open In Colab\"/></a>"
      ]
    },
    {
      "cell_type": "markdown",
      "source": [
        "#Unidade 3 - Sistemas de equações lineares\n",
        "\n"
      ],
      "metadata": {
        "id": "Wp-w6nzL41n-"
      }
    },
    {
      "cell_type": "markdown",
      "source": [
        "**Algoritmo da substituição inversa**\n",
        "\n",
        "Dados de entrada: $A$ uma matriz triangular superior com $a_{ii}\\neq 0,\\forall i$ e $a_{ij}=0$, se $i>j$ e $b_i$ com $1<i,j<n$.\n",
        "\n",
        "Saída: uma aproximação para $x$ tal que $Ax = b$.\n",
        "\n",
        "```\n",
        "1.  x[n]=b[n]/a[n][n]$\n",
        "2.  soma = 0\n",
        "3.  Para k=n-1 até 1\n",
        "4.     soma = b_k\n",
        "5.     Para j=k+1 até n\n",
        "6.        soma = soma - a[k][j]x[j]\n",
        "7.     x[k]=soma/a[k][k]\n",
        "\n",
        "```\n",
        "\n",
        "*Exemplo 2:*\n",
        "\n",
        "Implementar o método da substituição inversa e resolver o sistema linear triangular superior.\n",
        "\n",
        "$\\displaystyle{\\left\\{\\begin{array}{ccccccc}\n",
        "3x_1 & - & 4x_2 & + & x_3 & = & 9\\\\\n",
        " &  & 2x_2 & + & 2x_3 & = & 2\\\\\n",
        " & & &  & 3x_3 & = & 6\n",
        "\\end{array}\\right.}$"
      ],
      "metadata": {
        "id": "aNmcnGvhONIB"
      }
    },
    {
      "cell_type": "code",
      "source": [],
      "metadata": {
        "id": "rsUzgSP2xkSh"
      },
      "execution_count": null,
      "outputs": []
    },
    {
      "cell_type": "code",
      "source": [],
      "metadata": {
        "id": "8mDh6vNCxkPK"
      },
      "execution_count": null,
      "outputs": []
    },
    {
      "cell_type": "markdown",
      "source": [
        "Iniciamos a aula com exemplos de eliminação de Gauss com pivoteamento parcial e análise do sistema quanto a quantidade de soluções.\n",
        "\n",
        "A **estratégia de pivoteamento total** é a troca sistemática de linha e/ou coluna, de modo que o pivô (termo da diagonal) seja o maior elemento (em valor absoluto) da matriz que ainda atuam no processo de eliminação.\n",
        "\n",
        "Note que, uma troca de linhas troca a ordem das equações e uma troca de colunas altera a ordem do vetor de incógnitas ${\\bf x}$.\n",
        "  \n",
        "*Exemplo 1:*\n",
        "\n",
        "Resolução do sistema abaixo com três algarismos significativos e pivoteamento total.\n",
        "\n",
        " $\\displaystyle{\\left\\{\\begin{array}{ccccccc}\n",
        "x_1 & + & 4x_2 & + & 52x_3 & = & 57\\\\\n",
        "27x_1 & + & 110x_2 & - & 3x_3 & = & 134\\\\\n",
        "22x_1 & + & 2x_2 & + & 14x_3 & = & 38\n",
        "\\end{array}\\right.}$\n",
        "\n",
        " *Passo 1:*  O maior elemento em valor absoluto é 110. Assim, vamos trocar as colunas 1 e 2 e as linhas 1 e 2, ou seja, $C_1\\sim C_2$ e $L_1\\sim L_2$. Após a troca de colunas e linhas, faremos as operações: $L_2\\leftarrow L_2 - m_{21}L_1$ e $L_3\\leftarrow L_3-m_{31}L_1$, com $m_{21}=4/110\\approx 0.03636 \\approx 0.0364$ e $m_{31}=2/110\\approx 0.01818\\approx 0.0182.$\n",
        "\n",
        " Linha 2:\n",
        "\n",
        " $a_{22}=1-0.0364\\times 27 = 1-0.9828 \\approx 1 - 0.983 = 0.017,$\n",
        "\n",
        " $a_{23} = 52-0.0364\\times (-3) =52 + 0.1092 \\approx 52.1,$ e\n",
        "\n",
        " $b_2=57-0.0364\\times 134 = 57 - 4.8876 \\approx 57 - 4.89 = 52.11 \\approx 52.1.$\n",
        "\n",
        " Linha 3:\n",
        "\n",
        " $a_{32}=22-0.0182\\times 27 = 22-0.4914 \\approx 22 - 0.491 = 21.509 \\approx 21.5,$\n",
        "\n",
        " $a_{33} = 14-0.0182\\times (-3) =14 + 0.0546 = 14.0546 \\approx 14.1,$ e\n",
        "\n",
        " $b_3=38-0.0182\\times 134 = 38 - 2.4388 \\approx 38 - 2.44 = 35.56 \\approx 35.6.$\n",
        "\n",
        "*Passo 2:*  O maior elemento em valor absoluto dos elementos que ainda atual no processo é $a_{23}=52.1$. Assim, vamos trocar as colunas 2 e 3, ou seja, $C_2\\sim C_3$. Após a troca de colunas, faremos as operações: $L_3\\leftarrow L_3-m_{32}L_2$, com $m_{32}=14.1/52.1\\approx 0.270633 \\approx 0.271$.\n",
        "\n",
        " Linha 3:\n",
        "\n",
        " $a_{33}=21.5-0.271\\times 0.017 = 21.5-0.004607 \\approx 21.5 - 0.00461 \\approx 21.495 \\approx 21.5,$\n",
        "\n",
        " $b_3=35.6-0.271\\times 52.1 = 35.6 - 14.1191 \\approx 35.6 - 14.1 = 21.5.$\n",
        "\n",
        " A sequência de matrizes a cada passo é dada por\n",
        "\n",
        " $\\displaystyle{\\left (\\begin{array}{ccc|c}\n",
        "1  & 4 & 52 & 57\\\\\n",
        "27 & 110 & -3 & 134\\\\\n",
        "22 & 2 & 14 & 38\n",
        "\\end{array}\\right )\\sim \\left (\\begin{array}{ccc|c}\n",
        "4  & 1 & 52 & 57\\\\\n",
        "110 & 27 & -3 & 134 \\\\\n",
        "2 & 22 & 14 & 38\n",
        "\\end{array}\\right ) \\sim \\left (\\begin{array}{ccc|c}\n",
        "110  & 27 & -3 & 134\\\\\n",
        "4 & 1 & 52 & 57 \\\\\n",
        "2 & 22 & 14 & 38\n",
        "\\end{array}\\right )\\sim \\left (\\begin{array}{ccc|c}\n",
        "110  & 27 & -3 & 134\\\\\n",
        "0 & 0.017 & 52.1 & 52.1 \\\\\n",
        "0 & 21.5 & 14.1 & 35.6\n",
        "\\end{array}\\right )}$\n",
        "\n",
        "$\\displaystyle{\\sim \\left (\\begin{array}{ccc|c}\n",
        "110  & -3 & 27 & 134\\\\\n",
        "0 & 52.1 & 0.017 & 52.1 \\\\\n",
        "0 & 14.1 & 21.5 & 35.6\n",
        "\\end{array}\\right )\\sim \\left (\\begin{array}{ccc|c}\n",
        "110  & -3 & 27 & 134\\\\\n",
        "0 & 52.1 & 0.017 & 52.1 \\\\\n",
        "0 & 0 & 21.5 & 21.5\n",
        "\\end{array}\\right )}$\n",
        "\n",
        " O sistema triangular superior equivalente é dado por\n",
        "\n",
        "  $\\displaystyle{\\left\\{\\begin{array}{ccccccc}\n",
        "110x_2 & - & 3x_3 & + & 27x_1 & = & 134\\\\\n",
        " &  & 52.1x_3 & + & 0.017x_1 & = & 52.1\\\\\n",
        " &  &  &  & 21.5x_1 & = & 21.5\n",
        "\\end{array}\\right.}$\n",
        "\n",
        "Usando o método da substituição inversa temos:\n",
        "\n",
        "$\\displaystyle{x_1=\\dfrac{21.5}{21.5}=1},$\n",
        "\n",
        "$\\displaystyle{x_3=\\dfrac{52.1 - 0.017x_1}{52.1}\\approx\\dfrac{52.083}{52.1}\\approx \\dfrac{52.1}{52.1}=1},$ e\n",
        "\n",
        "$\\displaystyle{x_2=\\dfrac{134-27x_1+3x_3}{110}=\\dfrac{110}{110}=1}.$\n",
        "\n",
        "Portanto a solução do sistema é $x_1=x_2=x_3=1$.\n",
        "\n"
      ],
      "metadata": {
        "id": "mkHxOeF3zBC9"
      }
    },
    {
      "cell_type": "markdown",
      "source": [
        "\n",
        "**Fatoração LU**\n",
        "\n",
        "O método de Eliminação de Gauss nos fornece uma fatoração de matrizes, ou seja, a matriz $A$ pode ser escrita como o produto de duas matrizes $L$ (triangular inferior) e $U$ (triangular superior), $A=LU$.\n",
        "\n",
        "A matriz $U$ é a matriz triangular superior resultante do método de Eliminação de Gauss. A matriz $L$ é uma matriz triangular inferior que contém $1$s na diagonal e os multiplicadores utilizados em cada passo do processo de Eliminação de Gauss. Se forem realizadas trocas de linha durante o processo com pivoteamento parcial, teremos uma matriz $P$, chamada matriz de permutação. Uma matriz identidade com as mesmas trocas de linha realizadas durante o processo.\n",
        "\n",
        "Assim, a solução do sistema $Ax = b \\rightarrow LUx = b$, implica na resolução de dois sistemas triangulares: $Ux = y$ e $Ly=b$.\n",
        "\n",
        "Já vimos o método da substituição inversa para sistemas triangulares superiores. O método da substituição direta, para sistemas triangulares inferiores.\n",
        "\n",
        "Um **sistema triangular inferior** é dado por\n",
        "\n",
        "$\\displaystyle{\\left\\{\\begin{array}{ccccccccc}\n",
        "a_{11}x_1 & + &  & + &  &  &  & = & b_1 \\\\\n",
        "a_{21} & + & a_{22}x_2 &  &  &  & & = & b_2 \\\\\n",
        "\\vdots & & & & & & & \\\\\n",
        "a_{n1} & + & a_{n2} & +  & \\ldots & + & a_{nn}x_n & =  & b_n\\\\\n",
        "\\end{array}\\right .}$\n",
        "\n",
        "Ou seja, os elementos da matriz $A$ acima da diagonal principal são nulos.\n",
        "\n",
        "$\\displaystyle{A=\\left(\\begin{array}{ccccc}\n",
        "a_{11} & 0 & 0 & \\ldots & 0 \\\\\n",
        "a_{21} & a_{22} & 0 & \\ldots & 0 \\\\\n",
        " \\vdots & \\vdots & \\vdots & \\ldots & \\vdots \\\\\n",
        " a_{n1} & a_{n2}  & a_{n3} & \\ldots & a_{nn}\\\\\n",
        "\\end{array}\\right )}$\n",
        "\n"
      ],
      "metadata": {
        "id": "Zju2UHiGBUTK"
      }
    },
    {
      "cell_type": "code",
      "source": [
        "# Método da Substituição inversa"
      ],
      "metadata": {
        "id": "Hpgykj0LG4NT"
      },
      "execution_count": null,
      "outputs": []
    },
    {
      "cell_type": "markdown",
      "source": [
        "Um sistema linear neste formato pode ser resolvido com o método da substituição direta. Admitindo-se que os elementos da diagonal são não nulos, ou seja, $a_{ii}\\neq 0, \\forall i$, o método consiste em resolver a primeira equação, depois substituir o resultado na segunda e resolvê-la e assim por diante.\n",
        "\n",
        "**Algoritmo da substituição direta**\n",
        "\n",
        "Dados de entrada: $A$ uma matriz triangular inferior com $a_{ii}\\neq 0,\\forall i$ e $a_{ij}=0$, se $i< j$ e $b_i$ com $1< i,j < n$.\n",
        "\n",
        "Saída: uma aproximação para $x$ tal que $Ax = b$.\n",
        "\n",
        "```\n",
        "1.  x[1]=b[1]/a[1][1]$\n",
        "2.  soma = 0\n",
        "3.  Para k=2 até n\n",
        "4.     soma = b_k\n",
        "5.     Para j=1 até k-1\n",
        "6.        soma = soma - a[k][j]x[j]\n",
        "7.     x[k]=soma/a[k][k]\n",
        "\n",
        "```"
      ],
      "metadata": {
        "id": "XmrV55C1OaT8"
      }
    },
    {
      "cell_type": "code",
      "source": [
        "# Método da substituição direta"
      ],
      "metadata": {
        "id": "fTH3ZmccHPMK"
      },
      "execution_count": null,
      "outputs": []
    },
    {
      "cell_type": "markdown",
      "source": [
        "*Exemplo 3:* Resolver o sistema linear usando a fatoração LU com três algarismos significativos.\n",
        "\n",
        "$\\displaystyle{\\left\\{\\begin{array}{ccccccc}\n",
        "x_1 & + & 4x_2 & + & 52x_3 & = & 57\\\\\n",
        "27x_1 & + & 110x_2 & - & 3x_3 & = & 134\\\\\n",
        "22x_1 & + & 2x_2 & + & 14x_3 & = & 38\n",
        "\\end{array}\\right.}$\n",
        "\n",
        "Do exemplo da aula anterior, vamos reproduzir os passos da Eliminação de Gauss com pivoteamento parcial, armazenando os multiplicadores abaixo da diagonal principal.\n",
        "\n",
        "$\\displaystyle{\\left (\\begin{array}{ccc|c}\n",
        "1  & 4 & 52 & 57\\\\\n",
        "27 & 110 & -3 & 134\\\\\n",
        "22 & 2 & 14 & 38\n",
        "\\end{array}\\right )\\sim \\left (\\begin{array}{ccc|c}\n",
        "27 & 110 & -3 & 134\\\\\n",
        "1 & 4 & 52 & 57\\\\\n",
        "22 & 2 & 14 & 38\n",
        "\\end{array}\\right )\\sim\\left (\\begin{array}{ccc|c}\n",
        "27  & 110 & -3 & 134\\\\\n",
        "{\\bf 0.037} & -0.07 & 52.1 & 52 \\\\\n",
        "{\\bf 0.815} & -87.7 & 16.5 & -71\n",
        "\\end{array}\\right ) \\sim \\left (\\begin{array}{ccc|c}\n",
        "27  & 110 & -3 & 134\\\\\n",
        "{\\bf 0.815} & -87.7 & 16.5 & -71 \\\\\n",
        "{\\bf 0.037} & -0.07 & 52.1 & 52\n",
        "\\end{array}\\right )}$\n",
        "\n",
        "$\\displaystyle{\\sim \\left (\\begin{array}{ccc|c}\n",
        "27  & 110 & -3 & 134\\\\\n",
        "{\\bf 0.815} & -87.7 & 16.5 & -71 \\\\\n",
        "{\\bf 0.037} & {\\bf 0.000798} & 52.1 & 52.1\n",
        "\\end{array}\\right )}$\n",
        "\n",
        "Note que antes do passo 1 realizamos a troca $L_1\\sim L_2$ representado por $p_1=2$ e no passo 2, a troca $L_2\\sim L_3$, representado por $p_2=3$.\n",
        "\n",
        "Neste exemplo, temos:\n",
        "\n",
        "$\\displaystyle{L=\\left (\\begin{array}{ccc}\n",
        "1  & 0 & 0 \\\\\n",
        "0.815 & 1 & 0  \\\\\n",
        "0.037 & 0.000798 & 1\n",
        "\\end{array}\\right ), U=\\left (\\begin{array}{ccc}\n",
        "27  & 110 & -3 \\\\\n",
        "0 & -87.7 & 16.5 \\\\\n",
        "0 & 0 & 52.1\n",
        "\\end{array}\\right ) \\mbox{ e } P=\\left (\\begin{array}{ccc}\n",
        "0  & 1 & 0\\\\\n",
        "0 & 0 & 1 \\\\\n",
        "1 & 0 & 0\n",
        "\\end{array}\\right )}$\n",
        "\n",
        "Assim, $PA = LU$.\n",
        "\n",
        "Agora a partir da fatoração LU, vamos resolver o sistema linear a partir de dois sistemas triangulares.\n",
        "\n",
        "$$Ax = b \\Rightarrow PAx = Pb \\Rightarrow LUx = Pb \\Rightarrow \\left\\{\\begin{array}{l}\n",
        "Ly = Pb\\\\\n",
        "Ux = y\n",
        "\\end{array}\\right .$$\n",
        "\n",
        "Dessa forma, do exemplo anterior temos:\n",
        "\n",
        "$\\displaystyle{A=\\left (\\begin{array}{ccc}\n",
        "1  & 4 & 52 \\\\\n",
        "27 & 110 & -3 \\\\\n",
        "22 & 2 & 14\n",
        "\\end{array}\\right ), b=\\left(\\begin{array}{c}\n",
        "57\\\\\n",
        "134\\\\\n",
        "38\n",
        "\\end{array}\\right )}$ e a fatoração LU dada pelas matrizes $L$, $U$ e $P$.\n",
        "\n",
        "O primeiro passo é fazer a troca de linhas no vetor $b$, dada por\n",
        "\n",
        "$\\displaystyle{Pb = \\left (\\begin{array}{c}\n",
        "134\\\\\n",
        "38\\\\\n",
        "57\n",
        "\\end{array}\\right )}$\n",
        "\n",
        "O primeiro sistema triangular a ser resolvido é $Ly = Pb$, ou seja,\n",
        "\n",
        "$\\displaystyle{\\left \\{ \\begin{array}{ccccccc}\n",
        "y_1  &  & & & &  = & 134 \\\\\n",
        "0.815y_1 & + & y_2 & & & = & 38  \\\\\n",
        "0.037y_1 & + & 0.000798y_2 & + & y_3 & = & 57\n",
        "\\end{array}\\right .}$\n",
        "\n",
        "Aplicando o método da substituição direta obtemos:\n",
        "\n",
        "$y_1=134,$\n",
        "\n",
        "$\\displaystyle{y_2=38 - 0.815y_1=38 -109.21\\approx 38 - 109 = -71},$ e\n",
        "\n",
        "$\\displaystyle{y_3=57 - 0.000798y_2 - 0.037y_1=57 + 0.056658 - 4.958 \\approx 57 + 0.0567 - 4.96 = 57.0567 - 4.96 \\approx 57.1 - 4.96 = 52.14 \\approx 52.1.}$\n",
        "\n",
        "O segundo sistema triangular a ser resolvido é $Ux =y$, ou seja,\n",
        "\n",
        "$\\displaystyle{\\left \\{ \\begin{array}{ccccccc}\n",
        "27x_1  & + & 110x_2 & - & 3x_3 &  = & 134 \\\\\n",
        " &  & -87.7x_2 &  + & 16.5x_3 & = & -71 \\\\\n",
        " &  &  &  & 52.1x_3 & = & 52.1\n",
        "\\end{array}\\right .}$\n",
        "\n",
        "Aplicando o método da substituição inversa obtemos:\n",
        "\n",
        "$\\displaystyle{x_3=\\dfrac{52.1}{52.1}=1},$\n",
        "\n",
        "$\\displaystyle{x_2=\\dfrac{-71 - 16.5x_3}{-87.7}=\\dfrac{-87.5}{-87.7}\\approx 0.99771\\approx 0.998},$ e\n",
        "\n",
        "$\\displaystyle{x_1=\\dfrac{134 + 3x_3 - 110x_2}{27}=\\dfrac{137-109.78}{27}\\approx \\dfrac{137-110}{27}=1.}$\n",
        "\n",
        "Portanto, ${\\bf x} = (1, 0.998, 1)$."
      ],
      "metadata": {
        "id": "qsurwxdJ3NDy"
      }
    },
    {
      "cell_type": "code",
      "source": [
        "# Fatoração LU usando scipy"
      ],
      "metadata": {
        "id": "NG8GCX0oOzcA"
      },
      "execution_count": null,
      "outputs": []
    },
    {
      "cell_type": "markdown",
      "source": [
        "**Referências:**\n",
        "\n",
        "[1] Capítulo 3. Noções de Cálculo Numérico.\n",
        "\n",
        "[2] Capítulo 2. Cálculo Numérico Computacional.\n",
        "\n",
        "[3] Capítulo 3. Cálculo Numérico: Aspectos Teóricos e Computacionais."
      ],
      "metadata": {
        "id": "IfnqEKGZ3mkk"
      }
    }
  ]
}